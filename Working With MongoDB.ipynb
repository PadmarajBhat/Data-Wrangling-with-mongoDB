{
 "cells": [
  {
   "cell_type": "markdown",
   "metadata": {},
   "source": [
    "##### MongoDB Intro\n",
    "* Used wildly in Big Data\n",
    "* it is lead no SQL DB & document Database\n",
    "* document can be anything like python dict or javascript json object.\n",
    "* json like structure enables to point to the right data through key access and can be queried.\n",
    "* it has flexible schema\n",
    "* programmer friendly as the json like objects can be directly saved and no format change to save the objects\n",
    "* can be deployed on pc or cluster to support big data\n",
    "* it has aggregation framework. what does that mean ?"
   ]
  },
  {
   "cell_type": "code",
   "execution_count": null,
   "metadata": {},
   "outputs": [],
   "source": []
  }
 ],
 "metadata": {
  "kernelspec": {
   "display_name": "Python 3",
   "language": "python",
   "name": "python3"
  },
  "language_info": {
   "codemirror_mode": {
    "name": "ipython",
    "version": 3
   },
   "file_extension": ".py",
   "mimetype": "text/x-python",
   "name": "python",
   "nbconvert_exporter": "python",
   "pygments_lexer": "ipython3",
   "version": "3.7.1"
  }
 },
 "nbformat": 4,
 "nbformat_minor": 2
}
