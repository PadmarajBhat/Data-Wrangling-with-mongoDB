{
 "cells": [
  {
   "cell_type": "markdown",
   "metadata": {},
   "source": [
    "##### MongoDB Intro\n",
    "* Used wildly in Big Data\n",
    "* it is lead no SQL DB & document Database\n",
    "* document can be anything like python dict or javascript json object.\n",
    "* json like structure enables to point to the right data through key access and can be queried.\n",
    "* it has flexible schema\n",
    "* programmer friendly as the json like objects can be directly saved and no format change to save the objects\n",
    "* can be deployed on pc or cluster to support big data\n",
    "* it has aggregation framework. what does that mean ?"
   ]
  },
  {
   "cell_type": "markdown",
   "metadata": {},
   "source": [
    "##### Querying:\n",
    "* Project queries: indicates the items to be present in the result of the query\n",
    "* find(): findall matches select *\n",
    "* count(): COUNT(1) of the SELECT statement in SQL\n",
    "* insert() or mongoimport: Puts the data into the collection\n",
    "* {`$gte: 0, $lte : 5`} : 0<= x <= 5\n",
    "* $exists: to check if the fields exists\n",
    "\n",
    "* {`'abcd':{'$regex':{[Ff]riendship|[Pp]ride}}`} : checks for abcd field which HAS friendship or Friendship or Pride or pride value.\n",
    "* {`'x_array':10`}: will check if array has element as 10\n",
    "* `$in and $all` - {`'abcd':{$in:[\"a\",\"b\"]}}`  - check if abcd has EITHER a or b as its value and `$all` does check that if all values passed are present or not.\n",
    "* `{\"abcd.xyz\": {$gte : 50}}` : checks for the subfield (dot operator)\n",
    "* set, unset : Overrides a value when it is present, or else it inserts. Later one, Removes the values if exists or else no  impact \n",
    "* When to use save and when to update ? : https://stackoverflow.com/questions/29667457/mongodb-save-and-update\n",
    "    * save cannot search and update do not inserts, however, save inserts when _id not found and update searches for query condition."
   ]
  },
  {
   "cell_type": "markdown",
   "metadata": {},
   "source": [
    "##### Helping my friend for a Python interview :"
   ]
  },
  {
   "cell_type": "code",
   "execution_count": 8,
   "metadata": {},
   "outputs": [
    {
     "data": {
      "text/plain": [
       "False"
      ]
     },
     "execution_count": 8,
     "metadata": {},
     "output_type": "execute_result"
    }
   ],
   "source": [
    "a = [1,2,3,4]\n",
    "\n",
    "def check_sum(a,c):\n",
    "    for i in a:\n",
    "        for j in a:\n",
    "            if i+j == c:\n",
    "                return True\n",
    "    return False\n",
    "            \n",
    "    \n",
    "check_sum(a,5)\n",
    "check_sum([11, 1, 2, 3],21)"
   ]
  },
  {
   "cell_type": "code",
   "execution_count": 6,
   "metadata": {},
   "outputs": [
    {
     "name": "stdout",
     "output_type": "stream",
     "text": [
      "[1, 2, 3, 4]\n",
      "[1, 2, 3, 4, 8]\n",
      "True\n",
      "[1, 2, 3, 4]\n",
      "[1, 2, 3, 4, 5]\n",
      "False\n"
     ]
    }
   ],
   "source": [
    "def check_overlap(a):\n",
    "    dummy = []\n",
    "    for i in a:\n",
    "        for j in range(i[0],i[1]):\n",
    "            if j in dummy:\n",
    "                return True\n",
    "        \n",
    "        dummy.extend(range(i[0],i[1]))\n",
    "        print(dummy)\n",
    "    return False\n",
    "    \n",
    "    \n",
    "print(check_overlap([[1,5], [8,9], [3,6]]))\n",
    "print(check_overlap([[1,5], [5,6]]))"
   ]
  },
  {
   "cell_type": "code",
   "execution_count": 16,
   "metadata": {},
   "outputs": [
    {
     "name": "stdout",
     "output_type": "stream",
     "text": [
      "For abcdef :  ['ab', 'abc', 'bc', 'bcd', 'cd', 'cde', 'de', 'def', 'ef']\n",
      "For abcdefg :  ['ab', 'abc', 'bc', 'bcd', 'cd', 'cde', 'de', 'def', 'ef', 'efg', 'fg']\n"
     ]
    }
   ],
   "source": [
    "def get_two_strings(S):\n",
    "    dummy=[]\n",
    "    for i in range(0, len(S)-1):\n",
    "        dummy.append(S[i:i+2])\n",
    "    return dummy\n",
    "\n",
    "\n",
    "def get_three_strings(S):\n",
    "    dummy=[]\n",
    "    for i in range(0, len(S)-1):\n",
    "        dummy.append(S[i:i+3])\n",
    "    return dummy\n",
    "\n",
    "\n",
    "\n",
    "def split_string(S):\n",
    "    dummy =[]\n",
    "    dummy.extend(get_two_strings(S))\n",
    "    dummy.extend(get_three_strings(S))\n",
    "    \n",
    "    if len(dummy) > 0:\n",
    "        return sorted(list(set(dummy)))\n",
    "    return []\n",
    "    \n",
    "print(\"For abcdef : \",split_string(S=\"abcdef\"))\n",
    "print(\"For abcdefg : \",split_string(S=\"abcdefg\"))"
   ]
  },
  {
   "cell_type": "code",
   "execution_count": 18,
   "metadata": {},
   "outputs": [
    {
     "data": {
      "text/plain": [
       "['ac', 'acc', 'ca', 'cac', 'cc', 'cca', 'ccc']"
      ]
     },
     "execution_count": 18,
     "metadata": {},
     "output_type": "execute_result"
    }
   ],
   "source": [
    "split_string(S=\"ccccacccc\")\n"
   ]
  },
  {
   "cell_type": "code",
   "execution_count": null,
   "metadata": {},
   "outputs": [],
   "source": []
  }
 ],
 "metadata": {
  "kernelspec": {
   "display_name": "Python 3",
   "language": "python",
   "name": "python3"
  },
  "language_info": {
   "codemirror_mode": {
    "name": "ipython",
    "version": 3
   },
   "file_extension": ".py",
   "mimetype": "text/x-python",
   "name": "python",
   "nbconvert_exporter": "python",
   "pygments_lexer": "ipython3",
   "version": "3.7.1"
  }
 },
 "nbformat": 4,
 "nbformat_minor": 2
}
